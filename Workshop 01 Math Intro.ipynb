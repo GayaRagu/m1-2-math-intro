{
 "cells": [
  {
   "cell_type": "markdown",
   "metadata": {},
   "source": [
    "# Warmup: common elements\n",
    "\n",
    "Write a one line function using set operations to check if two given sets have no elements in common. \n",
    "\n",
    "\n",
    "```\n",
    "common_elements({1, 2, 3}, {2}) -> True\n",
    "\n",
    "common_elements({1, 2, 3}, {'a', 'b', 'c'}) -> False\n",
    "\n",
    "common_elements({1, 2, 3}, {'a', 1, 'hi!'}) -> True\n",
    "```"
   ]
  },
  {
   "cell_type": "code",
   "execution_count": 1,
   "metadata": {},
   "outputs": [
    {
     "name": "stdout",
     "output_type": "stream",
     "text": [
      "True\n",
      "False\n",
      "True\n"
     ]
    }
   ],
   "source": [
    "# Function using set operations to check if two given sets have no elements in common\n",
    "\n",
    "def common_elements (my_set1,my_set2):\n",
    "    return bool(my_set1.intersection(my_set2))\n",
    "\n",
    "# Test Scenarios & print result  \n",
    "\n",
    "print(common_elements({1, 2, 3}, {2}))\n",
    "print(common_elements({1, 2, 3}, {'a', 'b', 'c'}))\n",
    "print(common_elements({1, 2, 3}, {'a', 1, 'hi!'}))\n"
   ]
  },
  {
   "cell_type": "markdown",
   "metadata": {},
   "source": [
    "# Common Elements 2\n",
    "\n",
    "Write a function that, given a list of containers of any type, returns a **list** with the common elements\n",
    "\n",
    "$$ result =  a_1 \\cap a_2 \\cap ... \\cap a_n $$\n",
    "\n",
    "```\n",
    "common_elements([(1,2), [1,2,3], {1,2,4,5}]) -> [1, 2]\n",
    "common_elements([(1,2), [3], {4,5}]) -> []\n",
    "common_elements([(1,2), [2, 3], [2, 3], [2,3]]) -> [2]\n",
    "```"
   ]
  },
  {
   "cell_type": "code",
   "execution_count": 2,
   "metadata": {},
   "outputs": [
    {
     "name": "stdout",
     "output_type": "stream",
     "text": [
      "[1, 2]\n",
      "[]\n",
      "[2]\n"
     ]
    }
   ],
   "source": [
    "# Function that, given a list of containers of any type\n",
    "# returns a list with the common elements\n",
    "\n",
    "def common_elements(my_list):\n",
    "    return list(set.intersection(*[set(container) for container in my_list]))\n",
    "\n",
    "# Test Scenarios & print result  \n",
    "\n",
    "print(common_elements([(1,2), [1,2,3], {1,2,4,5}]))\n",
    "print(common_elements([(1,2), [3], {4,5}]))\n",
    "print(common_elements([(1,2), [2, 3], [2, 3], [2,3]]))"
   ]
  },
  {
   "cell_type": "markdown",
   "metadata": {},
   "source": [
    "# Pendulum Formula\n",
    "\n",
    "Consider a pendulum of length $L$. The time period $T$ of this pendulum is the amount of time it takes for the pendulum to complete one full swing. The amount of time $T(L)$ given the length of a pendulum is given by the formula:\n",
    "\n",
    "$$T(L) = 2 \\pi \\sqrt{\\dfrac{L}{g}} $$\n",
    "\n",
    "Where $\\pi$ is the math constant *pi* and $g$ is the gravity on earth ($9.8 m/s$).\n",
    "\n",
    "Write a function $T(L)$ that returns the time for a given length in meters.\n",
    "\n",
    "```\n",
    "pendulum(5) -> 4.487989505128276\n",
    "pendulum(50) -> 14.192268951137288\n",
    "```\n",
    "\n",
    "\n",
    "**hint:** use `import numpy` or `import math` to get the square root function and the value of pi\n",
    "\n",
    "**hint:** since since $g$ is in $m / sec$ and $l$ is in $m$ and you return in $sec$, you can make the function very simple"
   ]
  },
  {
   "cell_type": "code",
   "execution_count": 3,
   "metadata": {},
   "outputs": [
    {
     "name": "stdout",
     "output_type": "stream",
     "text": [
      "4.487989505128276\n",
      "14.192268951137288\n"
     ]
    }
   ],
   "source": [
    "# Function  𝑇(𝐿)  that returns the time for a given length in meters\n",
    "\n",
    "import numpy as np\n",
    "\n",
    "def pendulum(length):\n",
    "    \"\"\"\n",
    "    constant g = 9.8 m/s\n",
    "    length is given in m\n",
    "    m / (m/s) = s\n",
    "    therefore, time is calculated in s\n",
    "    \n",
    "    \"\"\"\n",
    "    g = 9.8 # uom m/s\n",
    "    return (2*np.pi)*np.sqrt(length/g)\n",
    "\n",
    "# Test Scenarios & print result  \n",
    "\n",
    "print(pendulum(5))\n",
    "print(pendulum(50))"
   ]
  },
  {
   "cell_type": "markdown",
   "metadata": {},
   "source": [
    "# Set Generation\n",
    "\n",
    "Use a one line python list comprehension to generate a list with the powers of 2 set:\n",
    "\n",
    "$$S = \\{x \\in 1, 2, 4, 8, 16, 32, 64, ... | x < 562949953421312 \\}$$\n",
    "\n"
   ]
  },
  {
   "cell_type": "code",
   "execution_count": 4,
   "metadata": {},
   "outputs": [
    {
     "data": {
      "text/plain": [
       "[1, 2, 4, 8, 16, 32, 64, 128, 256, 512]"
      ]
     },
     "execution_count": 4,
     "metadata": {},
     "output_type": "execute_result"
    }
   ],
   "source": [
    "# One line python list comprehension to generate a list with the powers of 2 set\n",
    "\n",
    "S = [2**i for i in range(0,int(np.log2(562949953421312)))]\n",
    "\n",
    "# Print result\n",
    "\n",
    "S[:10]"
   ]
  },
  {
   "cell_type": "markdown",
   "metadata": {},
   "source": [
    "# Checking for Prime Numbers\n",
    "\n",
    "A [prime number](https://en.wikipedia.org/wiki/Prime_number) is a number that can only be divided by 1 and by itself. Write a function that takes in a positive integer and returns `True` if it's prime and `False` otherwise.\n",
    "\n",
    "```\n",
    "check_prime(5) -> True\n",
    "check_prime(13) -> True\n",
    "check_prime(9) -> 9\n",
    "check_prime(15) -> False\n",
    "```"
   ]
  },
  {
   "cell_type": "code",
   "execution_count": 5,
   "metadata": {
    "colab": {},
    "colab_type": "code",
    "id": "l4IdYSgyuwXb"
   },
   "outputs": [
    {
     "name": "stdout",
     "output_type": "stream",
     "text": [
      "True\n",
      "True\n",
      "False\n",
      "False\n"
     ]
    }
   ],
   "source": [
    "# Function that takes in a positive integer and returns True if it's prime and False otherwise\n",
    "\n",
    "def check_prime(a_number):\n",
    "    if a_number > 1:\n",
    "        return sum(([not a_number%i for i in range(2,a_number)]))==0\n",
    "\n",
    "# Test Scenarios & print result  \n",
    "\n",
    "print(check_prime(5))\n",
    "print(check_prime(13))\n",
    "print(check_prime(9))\n",
    "print(check_prime(15))"
   ]
  }
 ],
 "metadata": {
  "colab": {
   "authorship_tag": "ABX9TyPmRY5kGt5p34lIAs/rfhTY",
   "collapsed_sections": [],
   "name": "Workshop Math Intro.ipynb",
   "provenance": []
  },
  "kernelspec": {
   "display_name": "Python 3",
   "language": "python",
   "name": "python3"
  },
  "language_info": {
   "codemirror_mode": {
    "name": "ipython",
    "version": 3
   },
   "file_extension": ".py",
   "mimetype": "text/x-python",
   "name": "python",
   "nbconvert_exporter": "python",
   "pygments_lexer": "ipython3",
   "version": "3.8.3"
  }
 },
 "nbformat": 4,
 "nbformat_minor": 4
}
